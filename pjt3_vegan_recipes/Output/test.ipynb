{
 "cells": [
  {
   "cell_type": "code",
   "execution_count": 1,
   "metadata": {
    "collapsed": true
   },
   "outputs": [],
   "source": [
    "import pandas as pd\n",
    "\n",
    "BASE_DIR = '/Users/wooseongkyun/코드_아카이브/멀캠_프로젝트들/multi_project3_vegan/pjt3_vegan_recipes'\n",
    "import sys\n",
    "sys.path.append(BASE_DIR)\n",
    "from Recommender_Systems import *\n",
    "\n"
   ]
  },
  {
   "cell_type": "code",
   "execution_count": 20,
   "outputs": [
    {
     "data": {
      "text/plain": "{'calories': '90 kcal',\n 'carbs': '16g',\n 'category': '3.Dessert+ Bread <Main ingredients: sugar/milk/coconut/vanilla/butter/almond>',\n 'image': 'https://images.immediate.co.uk/production/volatile/sites/30/2020/08/vegan_pancakes-4595444.jpg?resize=960,872?quality=90&resize=556,505',\n 'ingredients': '[300g self-raising flour, 1 tsp baking powder, 1 tbsp sugar (any kind) , 1 tbsp vanilla extract, 400ml plant-based milk (such as oat, almond or soya) , 1 tbsp vegetable oil for cooking, banana slices, blueberries, maple syrup, vegan chocolate chips, plant-based yogurt ]',\n 'link': 'https://www.bbcgoodfood.com/recipes/easy-vegan-pancakes',\n 'pk': 39,\n 'protein': '3g',\n 'recipe': '[\"1. Whisk the flour, baking powder, sugar, vanilla extract and a pinch of salt in a bowl using a balloon whisk until mixed. Slowly pour in the milk until you get a smooth, thick batter.\",\"2. Heat a little of the oil in a non-stick frying pan over a medium-low heat, and add 2 tbsp batter into the pan at a time to make small, round pancakes. You will need to do this in batches of two-three at a time. Cook for 3-4 mins until the edges are set, and bubbles are appearing on the surface. Flip the pancakes over and cook for another 2-3 mins until golden on both sides and cooked through. Keep warm in a low oven while you cook the remaining pancakes.\",\"3. Serve stacked with lots of toppings of your choice, or serve with bowls of toppings for everyone to help themselves.\"]',\n 'recipe_id': 39,\n 'serving': '4-6 servings',\n 'time': '30 mins',\n 'title': 'Easy vegan pancakes',\n 'total_fat': '1g'}"
     },
     "execution_count": 20,
     "metadata": {},
     "output_type": "execute_result"
    }
   ],
   "source": [
    "Recipes_df= pd.read_json('/Users/wooseongkyun/코드_아카이브/멀캠_프로젝트들/multi_project3_vegan/pjt3_vegan_recipes/Output'\n",
    "                         '/Recipesdf.json')\n",
    "Recipesdf.loc[0][0]"
   ],
   "metadata": {
    "collapsed": false
   }
  },
  {
   "cell_type": "code",
   "execution_count": 13,
   "outputs": [
    {
     "data": {
      "text/plain": "'Super Chunky Coconut Granola'"
     },
     "execution_count": 13,
     "metadata": {},
     "output_type": "execute_result"
    }
   ],
   "source": [
    "User_ID=230\n",
    "CBF(User_ID)\n",
    "Recommder_df= pd.read_json('/Users/wooseongkyun/코드_아카이브/멀캠_프로젝트들/multi_project3_vegan/pjt3_vegan_recipes/Output/CBF_Recommender/User_ID_'+str(User_ID)+'_CBF_results.json')\n",
    "\n",
    "for recipe in Recommder_df['recommended_recipe']:\n",
    "    if recipe is in Recipesdf\n"
   ],
   "metadata": {
    "collapsed": false
   }
  },
  {
   "cell_type": "code",
   "execution_count": 14,
   "outputs": [
    {
     "data": {
      "text/plain": "str"
     },
     "execution_count": 14,
     "metadata": {},
     "output_type": "execute_result"
    }
   ],
   "source": [
    "type(Recommder_df['recommended_recipe'].loc[1])"
   ],
   "metadata": {
    "collapsed": false
   }
  },
  {
   "cell_type": "code",
   "execution_count": 63,
   "outputs": [
    {
     "data": {
      "text/plain": "                                                title\n41                                Oat & chia porridge\n47                         Orange & raspberry granola\n91                                    Rhubarb Muffins\n121                How to make a Holiday Cheese Board\n130   Winter Cheese Board with Blood Orange Marmalade\n187                  Ginger vegan scones with rhubarb\n225                                 Vegan florentines\n421  Mint Chocolate Chip Ice Cream (Vegan, No Churn!)\n504            Blender Banana Pancakes (Gluten-Free!)\n540        1-Bowl Chocolate Chip Banana Baked Oatmeal\n594                     Caramel Apple Cheesecake Tart\n665                          Healthy Fig Newtons (GF)\n687                      Super Chunky Coconut Granola\n999                                   Easy Trail Mix ",
      "text/html": "<div>\n<style scoped>\n    .dataframe tbody tr th:only-of-type {\n        vertical-align: middle;\n    }\n\n    .dataframe tbody tr th {\n        vertical-align: top;\n    }\n\n    .dataframe thead th {\n        text-align: right;\n    }\n</style>\n<table border=\"1\" class=\"dataframe\">\n  <thead>\n    <tr style=\"text-align: right;\">\n      <th></th>\n      <th>title</th>\n    </tr>\n  </thead>\n  <tbody>\n    <tr>\n      <th>41</th>\n      <td>Oat &amp; chia porridge</td>\n    </tr>\n    <tr>\n      <th>47</th>\n      <td>Orange &amp; raspberry granola</td>\n    </tr>\n    <tr>\n      <th>91</th>\n      <td>Rhubarb Muffins</td>\n    </tr>\n    <tr>\n      <th>121</th>\n      <td>How to make a Holiday Cheese Board</td>\n    </tr>\n    <tr>\n      <th>130</th>\n      <td>Winter Cheese Board with Blood Orange Marmalade</td>\n    </tr>\n    <tr>\n      <th>187</th>\n      <td>Ginger vegan scones with rhubarb</td>\n    </tr>\n    <tr>\n      <th>225</th>\n      <td>Vegan florentines</td>\n    </tr>\n    <tr>\n      <th>421</th>\n      <td>Mint Chocolate Chip Ice Cream (Vegan, No Churn!)</td>\n    </tr>\n    <tr>\n      <th>504</th>\n      <td>Blender Banana Pancakes (Gluten-Free!)</td>\n    </tr>\n    <tr>\n      <th>540</th>\n      <td>1-Bowl Chocolate Chip Banana Baked Oatmeal</td>\n    </tr>\n    <tr>\n      <th>594</th>\n      <td>Caramel Apple Cheesecake Tart</td>\n    </tr>\n    <tr>\n      <th>665</th>\n      <td>Healthy Fig Newtons (GF)</td>\n    </tr>\n    <tr>\n      <th>687</th>\n      <td>Super Chunky Coconut Granola</td>\n    </tr>\n    <tr>\n      <th>999</th>\n      <td>Easy Trail Mix</td>\n    </tr>\n  </tbody>\n</table>\n</div>"
     },
     "execution_count": 63,
     "metadata": {},
     "output_type": "execute_result"
    }
   ],
   "source": [
    "Recipes_df= pd.read_json('/Users/wooseongkyun/코드_아카이브/멀캠_프로젝트들/multi_project3_vegan/pjt3_vegan_recipes/Output'\n",
    "                         '/Recipesdf.json')\n",
    "Recipes_df.reset_index(inplace=True)\n",
    "def str2int(x):\n",
    "    try:\n",
    "        x= int(x)\n",
    "        return x\n",
    "    except:\n",
    "        return x\n",
    "\n",
    "Recipes_df['index']= Recipes_df['index'].apply(lambda x: str2int(x))\n",
    "Recipes_df.sort_values(by='index',inplace=True)\n",
    "Recipes_df.set_index('index',inplace=True)\n",
    "\n",
    "\n",
    "\n",
    "title_lst=[]\n",
    "for i in range(len(Recipes_df)):\n",
    "    title_lst.append(Recipes_df.loc[i][0]['title'])\n",
    "\n",
    "\n",
    "def intersect(a, b):\n",
    "    return list(set(a) & set(b))\n",
    "\n",
    "filtered_result =intersect(title_lst,Recommder_df['recommended_recipe'])\n",
    "\n",
    "titles_df= pd.DataFrame(title_lst,columns=['title'])\n",
    "titles_df.query(\"title == @filtered_result\")\n",
    "\n"
   ],
   "metadata": {
    "collapsed": false
   }
  },
  {
   "cell_type": "code",
   "execution_count": 5,
   "outputs": [
    {
     "data": {
      "text/plain": "['Mango Peach Smoothie',\n 'French Onion Grilled Cheese Sandwich',\n 'Shrimp Ceviche Verde',\n 'Tandoori Glory Bowl',\n 'Frozen Fruit Pops',\n 'Instant Pot Jambalaya Recipe',\n 'Cauliflower Rice Stuffed Peppers',\n 'Red, White and Blueberry Trifle',\n 'Vietnamese Rice Noodle Salad w/ Pickled Vegetables',\n '1-Pot Pumpkin Black Bean Soup',\n 'Blueberry Frozen Yogurt',\n 'Shawarma Roasted Cauliflower “Steak”',\n 'Piña Colada Sorbet',\n 'Thai Green Curry Noodle Soup',\n 'Stoplight Mango Green Smoothie',\n 'The Best Whole Roasted Cauliflower (5 Ingredients!)',\n 'Instant Pot Split Pea Soup with Harissa',\n 'Sweetened Condensed Milk']"
     },
     "execution_count": 5,
     "metadata": {},
     "output_type": "execute_result"
    }
   ],
   "source": [
    "#유저가 필터선택한 정보 가져오기\n",
    "\n",
    "def Get_FilterData():\n",
    "    # 인덱스가 숫자임에도 문자열로 인식되어 순서가 엉망이길래 정렬해줌\n",
    "    def str2int(x):\n",
    "        try:\n",
    "            x= int(x)\n",
    "            return x\n",
    "        except:\n",
    "            return x\n",
    "\n",
    "    Recipes_df= pd.read_json(BASE_DIR+'/Output/Users_Filter.json')\n",
    "    Recipes_df.reset_index(inplace=True)\n",
    "    Recipes_df['index']= Recipes_df['index'].apply(lambda x: str2int(x))\n",
    "    Recipes_df.sort_values(by='index',inplace=True)\n",
    "    Recipes_df.set_index('index',inplace=True)\n",
    "\n",
    "    title_lst=[]\n",
    "    for i in range(len(Recipes_df)):\n",
    "        title_lst.append(Recipes_df.loc[i][0]['title'])\n",
    "\n",
    "    return title_lst\n",
    "\n",
    "# 두 리스트의 교집합을 구하는 함수\n",
    "def difference_set(a, b):\n",
    "    return list(set(a)-(set(b)))\n",
    "\n",
    "def Filtered_CBF(User_ID):\n",
    "    filter_lst= Get_FilterData()\n",
    "    CBF(User_ID)\n",
    "    CBF_df= pd.read_json(BASE_DIR+'/Output/CBF_Recommender/'+'User_ID_'+str(User_ID)+'_CBF_results.json')\n",
    "    filtered_result =difference_set(CBF_df['recommended_recipe'].tolist(),filter_lst)\n",
    "\n",
    "    return filtered_result\n",
    "\n",
    "def Filtered_CF(User_ID):\n",
    "    filter_lst= Get_FilterData()\n",
    "    CF(User_ID)\n",
    "    CF_df= pd.read_json(BASE_DIR+'/Output/CF_Recommender/'+'User_ID_'+str(User_ID)+'_CF_results.json')\n",
    "    filtered_result =difference_set(CF_df['recommended_recipe'].tolist(),filter_lst)\n",
    "\n",
    "    return filtered_result\n",
    "\n",
    "Filtered_CBF(250)"
   ],
   "metadata": {
    "collapsed": false
   }
  },
  {
   "cell_type": "code",
   "execution_count": 4,
   "outputs": [
    {
     "data": {
      "text/plain": "      recipe_id                                               link  \\\n4599       4600  https://www.myplate.gov/recipes/myplate-cnpp/h...   \n5416       5417  https://www.skinnytaste.com/instant-pot-baked-...   \n1288       1289     https://www.feastingathome.com/cassoulet-vert/   \n1680       1681  https://www.feastingathome.com/stuffed-shells-...   \n939         940  https://www.feastingathome.com/vegan-lasagna-b...   \n1093       1094    https://www.feastingathome.com/spanakopita-pie/   \n936         937     https://www.feastingathome.com/savory-galette/   \n823         824  https://www.feastingathome.com/maple-pecan-sco...   \n1707       1708  https://www.feastingathome.com/rustic-eggplant...   \n1517       1518  https://www.feastingathome.com/breakfast-strat...   \n1218       1219    https://www.feastingathome.com/polenta-lasagna/   \n4697       4698  https://www.myplate.gov/recipes/supplemental-n...   \n2243       2244  https://www.lazycatkitchen.com/spring-cheesele...   \n5577       5578  https://www.skinnytaste.com/spinach-ricotta-qu...   \n6357       6358  https://www.thecuriouschickpea.com/overnight-a...   \n722         723  https://www.feastingathome.com/italian-meat-ba...   \n5504       5505  https://www.skinnytaste.com/pumpkin-roll-light...   \n1325       1326  https://www.feastingathome.com/mushroom-wellin...   \n5814       5815  https://www.skinnytaste.com/savory-zucchini-as...   \n1626       1627  https://www.feastingathome.com/caprese-pizza-w...   \n\n                                                  title  \\\n4599              Herbed Spinach Quiche Portabella Caps   \n5416                             Instant Pot Baked Ziti   \n1288                                     Cassoulet Vert   \n1680                  Stuffed Shells with Pumpkin Sauce   \n939                             Vegan Lasagna Bolognese   \n1093                                    Spanakopita Pie   \n936                    Savory Galette with Leeks & Kale   \n823                                  Maple Pecan Scones   \n1707                           Rustic Eggplant Moussaka   \n1517  Breakfast Strata with Mushrooms, Caramelized O...   \n1218        Polenta Lasagna with Smoky Red Pepper Sauce   \n4697                  Pancakes (from Better Baking Mix)   \n2243                            Spring cheeseless pizza   \n5577                             Spinach Ricotta Quiche   \n6357                     Overnight Artisan Walnut Bread   \n722                              Easy Italian Meatballs   \n5504                         Pumpkin Roll, Lightened Up   \n1325       Mushroom Wellington with Rosemary and Pecans   \n5814               Savory Zucchini Asiago Tomato Scones   \n1626                                      Caprese Pizza   \n\n                                                  image                 time  \\\n4599  https://myplate-prod.azureedge.us/sites/defaul...           45 minutes   \n5416  https://www.skinnytaste.com/wp-content/uploads...              24 mins   \n1288  https://www.feastingathome.com/wp-content/uplo...   9 hours 30 minutes   \n1680  https://www.feastingathome.com/wp-content/uplo...       1 hour 30 mins   \n939   https://www.feastingathome.com/wp-content/uplo...    1 hour 50 minutes   \n1093  https://www.feastingathome.com/wp-content/uplo...    1 hour 30 minutes   \n936   https://www.feastingathome.com/wp-content/uplo...    3 hours 5 minutes   \n823   https://www.feastingathome.com/wp-content/uplo...           50 minutes   \n1707  https://www.feastingathome.com/wp-content/uplo...              3 hours   \n1517  https://www.feastingathome.com/wp-content/uplo...       1 hour 25 mins   \n1218  https://www.feastingathome.com/wp-content/uplo...    1 hour 30 minutes   \n4697  https://myplate-prod.azureedge.us/sites/defaul...                 None   \n2243  https://cdn77-s3.lazycatkitchen.com/wp-content...               40 min   \n5577  https://www.skinnytaste.com/wp-content/uploads...         1 hr 20 mins   \n6357  https://www.thecuriouschickpea.com/wp-content/...  15 hours 50 minutes   \n722   https://www.feastingathome.com/wp-content/uplo...           25 minutes   \n5504  https://www.skinnytaste.com/wp-content/uploads...         1 hr 35 mins   \n1325  https://www.feastingathome.com/wp-content/uplo...    1 hour 20 minutes   \n5814  https://www.skinnytaste.com/wp-content/uploads...                 1 hr   \n1626  https://www.feastingathome.com/wp-content/uplo...    1 hour 30 minutes   \n\n                         serving   calories   carbs protein total_fat  \\\n4599                  4 Servings    190kcal     14g     17g        6g   \n5416                  4 servings    452kcal     64g     24g     12.5g   \n1288                   4 serving   292 Kcal  19.9 g  10.1 g     2.9 g   \n1680                 4-6 serving   495 Kcal                             \n939                    8 serving   394 Kcal  51.4 g  15.1 g     2.1 g   \n1093                   8 serving   376 Kcal  24.6 g  14.5 g     8.2 g   \n936           8 servings serving   477 Kcal  24.7 g    11 g    21.6 g   \n823                   12 serving   373 Kcal  42.7 g   4.3 g     9.5 g   \n1707                   8 serving   564 Kcal  23.5 g  25.7 g    14.1 g   \n1517                   8 serving   455 Kcal  46.8 g  15.5 g     2.8 g   \n1218                   8 serving   424 Kcal  36.7 g  13.8 g     7.8 g   \n4697                  12Pancakes     31kcal      0g      1g        3g   \n2243        makes 4 small pizzas   882 kcal   107 g    21 g      42 g   \n5577                  8 servings    225kcal   15.5g     12g       13g   \n6357                      1 loaf       None    None    None      None   \n722   about 15 meatballs serving   167 Kcal   1.6 g  22.2 g     2.1 g   \n5504                 13 servings    198kcal   42.5g      5g        7g   \n1325                8-10 serving   390 Kcal  26.2 g   4.9 g     3.8 g   \n5814                 12 servings  141.5kcal   18.5g      6g        5g   \n1626                   6 serving   358 Kcal  37.9 g  12.8 g     5.7 g   \n\n                                                 recipe  \\\n4599  [\"1. Place oven rack in center of oven; prehea...   \n5416  [\"1. Using the saute button, when hot add the ...   \n1288  [\"1. Beans: If making the white beans in an In...   \n1680  [\"1. 400 F Oven\",\"2. To roast winter squash, c...   \n939   [\"1. Preheat oven to 375 F\",\"2. Simmer Cashews...   \n1093  [\"1. Make sure your phyllo dough is thawed (ov...   \n936   [\"1. Rough Puff Pastry Dough (allow 2 1/2 hour...   \n823   [\"1. Preheat oven 350 F oven\",\"2. In a large b...   \n1707  [\"1. Pre-heat oven to 400 F. Cut eggplant into...   \n1517  [\"1. Preheat oven to 400F\",\"2. Cut bread in to...   \n1218  [\"1. If making with homemade Polenta- make thi...   \n4697  [\"1. Put all the ingredients in a bowl.\\n2. St...   \n2243  [{\"DOUGH\":[\"1. Mix the flour, salt and yeast i...   \n5577  [\"1. Preheat oven to 350 degrees Farenheit.\",\"...   \n6357  [\"1. Preheat the oven to 350 ºF.\",\"2. When the...   \n722   [\"1. Prepare the sauce- Fast & Easy Marinaraor...   \n5504  [\"1. Preheat oven to 375°F and place oven rack...   \n1325  [\"1. Make sure your puff pastry is thawed befo...   \n5814  [\"1. Preheat the oven to 375°F.\",\"2. Combine t...   \n1626  [\"1. Preheat oven to 450F.\",\"2. Set pizza doug...   \n\n                                            ingredients  \\\n4599  [[4 portabella mushrooms (3-inch diameter),  c...   \n5416  [[1 teaspoon olive oil,  3 garlic cloves,  sma...   \n1288  [[,  3 x 14-ounce cans White Beans ( 4 ½ cups ...   \n1680  [[2 Cups Roasted Sugar Pumpkin (or any winter ...   \n939   [[1/3 cup cashews,  water to cover,  Mushroom ...   \n1093  [[2–3 tablespoons olive oil,  1 large onion,  ...   \n936   [[Rough Puff Pastry Dough:,  1 ¼ cups,  145 gr...   \n823   [[3 cups pastry flour (or sub-AP flour),  spoo...   \n1707  [[3 lbs Eggplant (2 extra-large or 3 eggplants...   \n1517  [[1 loaf crusty sourdough or french bread,  ab...   \n1218  [[2 x 18-ounce tubes of polenta (store-bought)...   \n4697  [[2 cups Better Baking Mix,  1 cup water,  2 t...   \n2243  [[250 g / 2 cups strong / bread flour,  250 g ...   \n5577  [[refrigerated Dough for 1,  9-inch,  deep dis...   \n6357  [[375g (2 3/4 cup + 2 tbsp) all purpose flour,...   \n722   [[1/4 cup walnuts lightly toasted and ground  ...   \n5504  [[3/4 cup all-purpose flour,  1/2 tsp baking p...   \n1325  [[1 box -2 sheets vegan puff pastry,  thawed i...   \n5814  [[3/4 cup cold buttermilk,  1 large egg,  beat...   \n1626  [[Pizza Ingredients,  1 lb mixed cherry,  grap...   \n\n                                               category  \n4599                                         4.West+Etc  \n5416                                         4.West+Etc  \n1288                                         4.West+Etc  \n1680                                         4.West+Etc  \n939                                          4.West+Etc  \n1093                                         4.West+Etc  \n936                                          4.West+Etc  \n823   3.Dessert+ Bread <Main ingredients: sugar/milk...  \n1707                                         4.West+Etc  \n1517                                         4.West+Etc  \n1218                                         4.West+Etc  \n4697  3.Dessert+ Bread <Main ingredients: sugar/milk...  \n2243                                         4.West+Etc  \n5577                                         4.West+Etc  \n6357  3.Dessert+ Bread <Main ingredients: sugar/milk...  \n722                                          4.West+Etc  \n5504  3.Dessert+ Bread <Main ingredients: sugar/milk...  \n1325                                         4.West+Etc  \n5814  3.Dessert+ Bread <Main ingredients: sugar/milk...  \n1626                                         4.West+Etc  ",
      "text/html": "<div>\n<style scoped>\n    .dataframe tbody tr th:only-of-type {\n        vertical-align: middle;\n    }\n\n    .dataframe tbody tr th {\n        vertical-align: top;\n    }\n\n    .dataframe thead th {\n        text-align: right;\n    }\n</style>\n<table border=\"1\" class=\"dataframe\">\n  <thead>\n    <tr style=\"text-align: right;\">\n      <th></th>\n      <th>recipe_id</th>\n      <th>link</th>\n      <th>title</th>\n      <th>image</th>\n      <th>time</th>\n      <th>serving</th>\n      <th>calories</th>\n      <th>carbs</th>\n      <th>protein</th>\n      <th>total_fat</th>\n      <th>recipe</th>\n      <th>ingredients</th>\n      <th>category</th>\n    </tr>\n  </thead>\n  <tbody>\n    <tr>\n      <th>4599</th>\n      <td>4600</td>\n      <td>https://www.myplate.gov/recipes/myplate-cnpp/h...</td>\n      <td>Herbed Spinach Quiche Portabella Caps</td>\n      <td>https://myplate-prod.azureedge.us/sites/defaul...</td>\n      <td>45 minutes</td>\n      <td>4 Servings</td>\n      <td>190kcal</td>\n      <td>14g</td>\n      <td>17g</td>\n      <td>6g</td>\n      <td>[\"1. Place oven rack in center of oven; prehea...</td>\n      <td>[[4 portabella mushrooms (3-inch diameter),  c...</td>\n      <td>4.West+Etc</td>\n    </tr>\n    <tr>\n      <th>5416</th>\n      <td>5417</td>\n      <td>https://www.skinnytaste.com/instant-pot-baked-...</td>\n      <td>Instant Pot Baked Ziti</td>\n      <td>https://www.skinnytaste.com/wp-content/uploads...</td>\n      <td>24 mins</td>\n      <td>4 servings</td>\n      <td>452kcal</td>\n      <td>64g</td>\n      <td>24g</td>\n      <td>12.5g</td>\n      <td>[\"1. Using the saute button, when hot add the ...</td>\n      <td>[[1 teaspoon olive oil,  3 garlic cloves,  sma...</td>\n      <td>4.West+Etc</td>\n    </tr>\n    <tr>\n      <th>1288</th>\n      <td>1289</td>\n      <td>https://www.feastingathome.com/cassoulet-vert/</td>\n      <td>Cassoulet Vert</td>\n      <td>https://www.feastingathome.com/wp-content/uplo...</td>\n      <td>9 hours 30 minutes</td>\n      <td>4 serving</td>\n      <td>292 Kcal</td>\n      <td>19.9 g</td>\n      <td>10.1 g</td>\n      <td>2.9 g</td>\n      <td>[\"1. Beans: If making the white beans in an In...</td>\n      <td>[[,  3 x 14-ounce cans White Beans ( 4 ½ cups ...</td>\n      <td>4.West+Etc</td>\n    </tr>\n    <tr>\n      <th>1680</th>\n      <td>1681</td>\n      <td>https://www.feastingathome.com/stuffed-shells-...</td>\n      <td>Stuffed Shells with Pumpkin Sauce</td>\n      <td>https://www.feastingathome.com/wp-content/uplo...</td>\n      <td>1 hour 30 mins</td>\n      <td>4-6 serving</td>\n      <td>495 Kcal</td>\n      <td></td>\n      <td></td>\n      <td></td>\n      <td>[\"1. 400 F Oven\",\"2. To roast winter squash, c...</td>\n      <td>[[2 Cups Roasted Sugar Pumpkin (or any winter ...</td>\n      <td>4.West+Etc</td>\n    </tr>\n    <tr>\n      <th>939</th>\n      <td>940</td>\n      <td>https://www.feastingathome.com/vegan-lasagna-b...</td>\n      <td>Vegan Lasagna Bolognese</td>\n      <td>https://www.feastingathome.com/wp-content/uplo...</td>\n      <td>1 hour 50 minutes</td>\n      <td>8 serving</td>\n      <td>394 Kcal</td>\n      <td>51.4 g</td>\n      <td>15.1 g</td>\n      <td>2.1 g</td>\n      <td>[\"1. Preheat oven to 375 F\",\"2. Simmer Cashews...</td>\n      <td>[[1/3 cup cashews,  water to cover,  Mushroom ...</td>\n      <td>4.West+Etc</td>\n    </tr>\n    <tr>\n      <th>1093</th>\n      <td>1094</td>\n      <td>https://www.feastingathome.com/spanakopita-pie/</td>\n      <td>Spanakopita Pie</td>\n      <td>https://www.feastingathome.com/wp-content/uplo...</td>\n      <td>1 hour 30 minutes</td>\n      <td>8 serving</td>\n      <td>376 Kcal</td>\n      <td>24.6 g</td>\n      <td>14.5 g</td>\n      <td>8.2 g</td>\n      <td>[\"1. Make sure your phyllo dough is thawed (ov...</td>\n      <td>[[2–3 tablespoons olive oil,  1 large onion,  ...</td>\n      <td>4.West+Etc</td>\n    </tr>\n    <tr>\n      <th>936</th>\n      <td>937</td>\n      <td>https://www.feastingathome.com/savory-galette/</td>\n      <td>Savory Galette with Leeks &amp; Kale</td>\n      <td>https://www.feastingathome.com/wp-content/uplo...</td>\n      <td>3 hours 5 minutes</td>\n      <td>8 servings serving</td>\n      <td>477 Kcal</td>\n      <td>24.7 g</td>\n      <td>11 g</td>\n      <td>21.6 g</td>\n      <td>[\"1. Rough Puff Pastry Dough (allow 2 1/2 hour...</td>\n      <td>[[Rough Puff Pastry Dough:,  1 ¼ cups,  145 gr...</td>\n      <td>4.West+Etc</td>\n    </tr>\n    <tr>\n      <th>823</th>\n      <td>824</td>\n      <td>https://www.feastingathome.com/maple-pecan-sco...</td>\n      <td>Maple Pecan Scones</td>\n      <td>https://www.feastingathome.com/wp-content/uplo...</td>\n      <td>50 minutes</td>\n      <td>12 serving</td>\n      <td>373 Kcal</td>\n      <td>42.7 g</td>\n      <td>4.3 g</td>\n      <td>9.5 g</td>\n      <td>[\"1. Preheat oven 350 F oven\",\"2. In a large b...</td>\n      <td>[[3 cups pastry flour (or sub-AP flour),  spoo...</td>\n      <td>3.Dessert+ Bread &lt;Main ingredients: sugar/milk...</td>\n    </tr>\n    <tr>\n      <th>1707</th>\n      <td>1708</td>\n      <td>https://www.feastingathome.com/rustic-eggplant...</td>\n      <td>Rustic Eggplant Moussaka</td>\n      <td>https://www.feastingathome.com/wp-content/uplo...</td>\n      <td>3 hours</td>\n      <td>8 serving</td>\n      <td>564 Kcal</td>\n      <td>23.5 g</td>\n      <td>25.7 g</td>\n      <td>14.1 g</td>\n      <td>[\"1. Pre-heat oven to 400 F. Cut eggplant into...</td>\n      <td>[[3 lbs Eggplant (2 extra-large or 3 eggplants...</td>\n      <td>4.West+Etc</td>\n    </tr>\n    <tr>\n      <th>1517</th>\n      <td>1518</td>\n      <td>https://www.feastingathome.com/breakfast-strat...</td>\n      <td>Breakfast Strata with Mushrooms, Caramelized O...</td>\n      <td>https://www.feastingathome.com/wp-content/uplo...</td>\n      <td>1 hour 25 mins</td>\n      <td>8 serving</td>\n      <td>455 Kcal</td>\n      <td>46.8 g</td>\n      <td>15.5 g</td>\n      <td>2.8 g</td>\n      <td>[\"1. Preheat oven to 400F\",\"2. Cut bread in to...</td>\n      <td>[[1 loaf crusty sourdough or french bread,  ab...</td>\n      <td>4.West+Etc</td>\n    </tr>\n    <tr>\n      <th>1218</th>\n      <td>1219</td>\n      <td>https://www.feastingathome.com/polenta-lasagna/</td>\n      <td>Polenta Lasagna with Smoky Red Pepper Sauce</td>\n      <td>https://www.feastingathome.com/wp-content/uplo...</td>\n      <td>1 hour 30 minutes</td>\n      <td>8 serving</td>\n      <td>424 Kcal</td>\n      <td>36.7 g</td>\n      <td>13.8 g</td>\n      <td>7.8 g</td>\n      <td>[\"1. If making with homemade Polenta- make thi...</td>\n      <td>[[2 x 18-ounce tubes of polenta (store-bought)...</td>\n      <td>4.West+Etc</td>\n    </tr>\n    <tr>\n      <th>4697</th>\n      <td>4698</td>\n      <td>https://www.myplate.gov/recipes/supplemental-n...</td>\n      <td>Pancakes (from Better Baking Mix)</td>\n      <td>https://myplate-prod.azureedge.us/sites/defaul...</td>\n      <td>None</td>\n      <td>12Pancakes</td>\n      <td>31kcal</td>\n      <td>0g</td>\n      <td>1g</td>\n      <td>3g</td>\n      <td>[\"1. Put all the ingredients in a bowl.\\n2. St...</td>\n      <td>[[2 cups Better Baking Mix,  1 cup water,  2 t...</td>\n      <td>3.Dessert+ Bread &lt;Main ingredients: sugar/milk...</td>\n    </tr>\n    <tr>\n      <th>2243</th>\n      <td>2244</td>\n      <td>https://www.lazycatkitchen.com/spring-cheesele...</td>\n      <td>Spring cheeseless pizza</td>\n      <td>https://cdn77-s3.lazycatkitchen.com/wp-content...</td>\n      <td>40 min</td>\n      <td>makes 4 small pizzas</td>\n      <td>882 kcal</td>\n      <td>107 g</td>\n      <td>21 g</td>\n      <td>42 g</td>\n      <td>[{\"DOUGH\":[\"1. Mix the flour, salt and yeast i...</td>\n      <td>[[250 g / 2 cups strong / bread flour,  250 g ...</td>\n      <td>4.West+Etc</td>\n    </tr>\n    <tr>\n      <th>5577</th>\n      <td>5578</td>\n      <td>https://www.skinnytaste.com/spinach-ricotta-qu...</td>\n      <td>Spinach Ricotta Quiche</td>\n      <td>https://www.skinnytaste.com/wp-content/uploads...</td>\n      <td>1 hr 20 mins</td>\n      <td>8 servings</td>\n      <td>225kcal</td>\n      <td>15.5g</td>\n      <td>12g</td>\n      <td>13g</td>\n      <td>[\"1. Preheat oven to 350 degrees Farenheit.\",\"...</td>\n      <td>[[refrigerated Dough for 1,  9-inch,  deep dis...</td>\n      <td>4.West+Etc</td>\n    </tr>\n    <tr>\n      <th>6357</th>\n      <td>6358</td>\n      <td>https://www.thecuriouschickpea.com/overnight-a...</td>\n      <td>Overnight Artisan Walnut Bread</td>\n      <td>https://www.thecuriouschickpea.com/wp-content/...</td>\n      <td>15 hours 50 minutes</td>\n      <td>1 loaf</td>\n      <td>None</td>\n      <td>None</td>\n      <td>None</td>\n      <td>None</td>\n      <td>[\"1. Preheat the oven to 350 ºF.\",\"2. When the...</td>\n      <td>[[375g (2 3/4 cup + 2 tbsp) all purpose flour,...</td>\n      <td>3.Dessert+ Bread &lt;Main ingredients: sugar/milk...</td>\n    </tr>\n    <tr>\n      <th>722</th>\n      <td>723</td>\n      <td>https://www.feastingathome.com/italian-meat-ba...</td>\n      <td>Easy Italian Meatballs</td>\n      <td>https://www.feastingathome.com/wp-content/uplo...</td>\n      <td>25 minutes</td>\n      <td>about 15 meatballs serving</td>\n      <td>167 Kcal</td>\n      <td>1.6 g</td>\n      <td>22.2 g</td>\n      <td>2.1 g</td>\n      <td>[\"1. Prepare the sauce- Fast &amp; Easy Marinaraor...</td>\n      <td>[[1/4 cup walnuts lightly toasted and ground  ...</td>\n      <td>4.West+Etc</td>\n    </tr>\n    <tr>\n      <th>5504</th>\n      <td>5505</td>\n      <td>https://www.skinnytaste.com/pumpkin-roll-light...</td>\n      <td>Pumpkin Roll, Lightened Up</td>\n      <td>https://www.skinnytaste.com/wp-content/uploads...</td>\n      <td>1 hr 35 mins</td>\n      <td>13 servings</td>\n      <td>198kcal</td>\n      <td>42.5g</td>\n      <td>5g</td>\n      <td>7g</td>\n      <td>[\"1. Preheat oven to 375°F and place oven rack...</td>\n      <td>[[3/4 cup all-purpose flour,  1/2 tsp baking p...</td>\n      <td>3.Dessert+ Bread &lt;Main ingredients: sugar/milk...</td>\n    </tr>\n    <tr>\n      <th>1325</th>\n      <td>1326</td>\n      <td>https://www.feastingathome.com/mushroom-wellin...</td>\n      <td>Mushroom Wellington with Rosemary and Pecans</td>\n      <td>https://www.feastingathome.com/wp-content/uplo...</td>\n      <td>1 hour 20 minutes</td>\n      <td>8-10 serving</td>\n      <td>390 Kcal</td>\n      <td>26.2 g</td>\n      <td>4.9 g</td>\n      <td>3.8 g</td>\n      <td>[\"1. Make sure your puff pastry is thawed befo...</td>\n      <td>[[1 box -2 sheets vegan puff pastry,  thawed i...</td>\n      <td>4.West+Etc</td>\n    </tr>\n    <tr>\n      <th>5814</th>\n      <td>5815</td>\n      <td>https://www.skinnytaste.com/savory-zucchini-as...</td>\n      <td>Savory Zucchini Asiago Tomato Scones</td>\n      <td>https://www.skinnytaste.com/wp-content/uploads...</td>\n      <td>1 hr</td>\n      <td>12 servings</td>\n      <td>141.5kcal</td>\n      <td>18.5g</td>\n      <td>6g</td>\n      <td>5g</td>\n      <td>[\"1. Preheat the oven to 375°F.\",\"2. Combine t...</td>\n      <td>[[3/4 cup cold buttermilk,  1 large egg,  beat...</td>\n      <td>3.Dessert+ Bread &lt;Main ingredients: sugar/milk...</td>\n    </tr>\n    <tr>\n      <th>1626</th>\n      <td>1627</td>\n      <td>https://www.feastingathome.com/caprese-pizza-w...</td>\n      <td>Caprese Pizza</td>\n      <td>https://www.feastingathome.com/wp-content/uplo...</td>\n      <td>1 hour 30 minutes</td>\n      <td>6 serving</td>\n      <td>358 Kcal</td>\n      <td>37.9 g</td>\n      <td>12.8 g</td>\n      <td>5.7 g</td>\n      <td>[\"1. Preheat oven to 450F.\",\"2. Set pizza doug...</td>\n      <td>[[Pizza Ingredients,  1 lb mixed cherry,  grap...</td>\n      <td>4.West+Etc</td>\n    </tr>\n  </tbody>\n</table>\n</div>"
     },
     "execution_count": 4,
     "metadata": {},
     "output_type": "execute_result"
    }
   ],
   "source": [
    "def Filtered_RecipeData_by_CBF(User_ID):\n",
    "    recipes= Download_Recipes()\n",
    "    filtered_result= Filtered_CBF(User_ID)\n",
    "\n",
    "    matched_recipes=pd.DataFrame()\n",
    "    for recipe in filtered_result:\n",
    "        matched_df=recipes[recipes['title']==recipe]\n",
    "        matched_recipes=pd.concat([matched_recipes,matched_df])\n",
    "    matched_recipes.drop_duplicates(['title'],inplace=True)\n",
    "    return matched_recipes\n",
    "\n",
    "def Filtered_RecipeData_by_CF(User_ID):\n",
    "    recipes= Download_Recipes()\n",
    "    filtered_result= Filtered_CF(User_ID)\n",
    "\n",
    "    matched_recipes=pd.DataFrame()\n",
    "    for recipe in filtered_result:\n",
    "        matched_df=recipes[recipes['title']==recipe]\n",
    "        matched_recipes=pd.concat([matched_recipes,matched_df])\n",
    "    matched_recipes.drop_duplicates(['title'],inplace=True)\n",
    "    return matched_recipes\n",
    "\n",
    "import pandas as pd\n",
    "\n",
    "BASE_DIR = '/Users/wooseongkyun/코드_아카이브/멀캠_프로젝트들/multi_project3_vegan/pjt3_vegan_recipes'\n",
    "import sys\n",
    "sys.path.append(BASE_DIR)\n",
    "from Recommender_Systems import *\n",
    "Filtered_RecipeData_by_CBF(120)\n"
   ],
   "metadata": {
    "collapsed": false
   }
  },
  {
   "cell_type": "code",
   "execution_count": 14,
   "outputs": [
    {
     "data": {
      "text/plain": "['Vegan zucchini galette',\n 'Chocolate Bouchons',\n 'Vegan quiche with asparagus',\n 'Vegan poppy seed roll',\n 'Best Ever Vegan Nutella',\n 'Rhubarb Tart with Lemon, Cardamom & Vanilla',\n 'Lentil and roast pepper salad with vegan feta',\n 'Vegan jagodzianki – Polish blueberry buns',\n 'Vegan cinnamon buns',\n 'Vegan Polish sweet cheese rolls with berries',\n 'Vegan tempura',\n 'Vegan Salted Bourbon Caramel Ice Cream',\n 'Vegan naan bread',\n 'Vegan snickerdoodles',\n 'Vegan rhubarb and ginger buns',\n 'Easy Overnight Pizza Dough',\n 'Light as a Feather Whole Wheat Pancakes',\n 'Vegan Polish sweet cheese rolls',\n 'Vegan pumpkin filo pie',\n 'Vegan spanakopita – Greek spinach pie']"
     },
     "execution_count": 14,
     "metadata": {},
     "output_type": "execute_result"
    }
   ],
   "source": [
    "User_ID=110\n",
    "filter_lst= Get_FilterData()\n",
    "CBF(User_ID)\n",
    "CBF_df= pd.read_json(BASE_DIR+'/Output/CBF_Recommender/'+'User_ID_'+str(User_ID)+'_CBF_results.json')\n",
    "filtered_result =difference_set(CBF_df['recommended_recipe'].tolist(),filter_lst)\n",
    "filtered_result\n",
    "\n"
   ],
   "metadata": {
    "collapsed": false
   }
  },
  {
   "cell_type": "code",
   "execution_count": 69,
   "outputs": [
    {
     "data": {
      "text/plain": "0                            Orange & raspberry granola\n1                          Super Chunky Coconut Granola\n2            1-Bowl Chocolate Chip Banana Baked Oatmeal\n3                         Caramel Apple Cheesecake Tart\n4                Blender Banana Pancakes (Gluten-Free!)\n5                                   Oat & chia porridge\n6                                       Easy Trail Mix \n7                            How to Make Macadamia Milk\n8                                Old Fashioned Cocktail\n9     Whole Wheat Griddle Cakes with Blueberry Orang...\n10                                     Raspberry sorbet\n11                             Healthy Fig Newtons (GF)\n12     Mint Chocolate Chip Ice Cream (Vegan, No Churn!)\n13                            Apricot & hazelnut muesli\n14                     Ginger vegan scones with rhubarb\n15                                    Vegan florentines\n16      Winter Cheese Board with Blood Orange Marmalade\n17                   How to make a Holiday Cheese Board\n18                                      Rhubarb Muffins\n19                              Strawberry lemon sorbet\nName: recommended_recipe, dtype: object"
     },
     "execution_count": 69,
     "metadata": {},
     "output_type": "execute_result"
    }
   ],
   "source": [
    "CBF_df['recommended_recipe']"
   ],
   "metadata": {
    "collapsed": false
   }
  },
  {
   "cell_type": "code",
   "execution_count": null,
   "outputs": [],
   "source": [],
   "metadata": {
    "collapsed": false
   }
  }
 ],
 "metadata": {
  "kernelspec": {
   "display_name": "Python 3",
   "language": "python",
   "name": "python3"
  },
  "language_info": {
   "codemirror_mode": {
    "name": "ipython",
    "version": 2
   },
   "file_extension": ".py",
   "mimetype": "text/x-python",
   "name": "python",
   "nbconvert_exporter": "python",
   "pygments_lexer": "ipython2",
   "version": "2.7.6"
  }
 },
 "nbformat": 4,
 "nbformat_minor": 0
}
